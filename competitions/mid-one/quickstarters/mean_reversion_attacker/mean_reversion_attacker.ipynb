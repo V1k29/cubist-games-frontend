{
  "cells": [
    {
      "cell_type": "markdown",
      "metadata": {
        "id": "j5FXAqC57fAS"
      },
      "source": [
        "![Cover](https://raw.githubusercontent.com/crunchdao/quickstarters/refs/heads/master/competitions/mid-one/cover.jpg)"
      ]
    },
    {
      "cell_type": "markdown",
      "metadata": {
        "id": "LpCh-JZToCzK"
      },
      "source": [
        "# Mean Reversion Attacker Tutorial\n",
        "This notebook demonstrates how to create an `Attacker` described in [attacker.md](https://github.com/microprediction/midone/blob/main/midone/attackers/attacker.md).\n",
        "\n",
        "\n",
        "## How is `Attacker.predict` different to a forecast?\n",
        "\n",
        "An `Attacker` tries to predict whether a time-series will go up or down on average - though only when it has a strong opinion. To be precise, our attacker will consume a univariate sequence of numerical data points $x_1, x_2, \\dots x_t$ and try to exploit deviations from the [martingale property](https://en.wikipedia.org/wiki/Martingale_(probability_theory)), which is to say that we expect the series $x_t$ to satisfy:\n",
        "\n",
        "$$ E[x_{t+k}] \\approx x_t $$\n",
        "\n",
        "roughly. Of course, there's no such thing in this world as a perfect martingale and it is your job to indicate when\n",
        "\n",
        "$$ E[x_{t+k}] > x_t + \\epsilon $$\n",
        "\n",
        "by returning a positive value when the `predict` method is called,\n",
        "or conversely. Here $\\epsilon$ finds interpretation as a trading cost. The attacker will *typically* return `0` meaning that it thinks:\n",
        "\n",
        "$$  x_t - \\epsilon   > E[x_{t+k}] > x_t + \\epsilon $$\n",
        "\n",
        "because trading opportunities are probably on the rare side - though obviously this is problem dependent. The default $\\epsilon$ and $k$ (`horizon`) parameters are set [here](https://github.com/microprediction/midone/blob/main/midone/gameconfig.py)."
      ]
    },
    {
      "cell_type": "markdown",
      "metadata": {
        "id": "6bPEtey47fAa"
      },
      "source": [
        "## Setup"
      ]
    },
    {
      "cell_type": "code",
      "execution_count": null,
      "metadata": {
        "id": "fhC5ML_Y7fAa"
      },
      "outputs": [],
      "source": [
        "%pip install --upgrade midone"
      ]
    },
    {
      "cell_type": "code",
      "source": [
        "%pip install crunch-cli --upgrade\n",
        "!crunch setup --notebook mid-one gm --token hHlVlzWxCL7SVsViKWCykfk07XbhN0VqQtSBAeLEN1QWMMNjoYxSmDl6Tw9pxP8N\n"
      ],
      "metadata": {
        "colab": {
          "base_uri": "https://localhost:8080/"
        },
        "id": "U0YGihZx8LFO",
        "outputId": "df5623d1-0ff3-4229-f9b9-d570d68ca508"
      },
      "execution_count": 1,
      "outputs": [
        {
          "output_type": "stream",
          "name": "stdout",
          "text": [
            "Collecting crunch-cli\n",
            "  Downloading crunch_cli-5.2.0-py3-none-any.whl.metadata (3.2 kB)\n",
            "Collecting astor (from crunch-cli)\n",
            "  Downloading astor-0.8.1-py2.py3-none-any.whl.metadata (4.2 kB)\n",
            "Requirement already satisfied: click in /usr/local/lib/python3.10/dist-packages (from crunch-cli) (8.1.7)\n",
            "Collecting coloredlogs (from crunch-cli)\n",
            "  Downloading coloredlogs-15.0.1-py2.py3-none-any.whl.metadata (12 kB)\n",
            "Collecting dataclasses-json (from crunch-cli)\n",
            "  Downloading dataclasses_json-0.6.7-py3-none-any.whl.metadata (25 kB)\n",
            "Collecting gitignorefile (from crunch-cli)\n",
            "  Downloading gitignorefile-1.1.2.tar.gz (12 kB)\n",
            "  Installing build dependencies ... \u001b[?25l\u001b[?25hdone\n",
            "  Getting requirements to build wheel ... \u001b[?25l\u001b[?25hdone\n",
            "  Preparing metadata (pyproject.toml) ... \u001b[?25l\u001b[?25hdone\n",
            "Requirement already satisfied: importlib-metadata in /usr/local/lib/python3.10/dist-packages (from crunch-cli) (8.5.0)\n",
            "Collecting inquirer (from crunch-cli)\n",
            "  Downloading inquirer-3.4.0-py3-none-any.whl.metadata (6.8 kB)\n",
            "Requirement already satisfied: joblib in /usr/local/lib/python3.10/dist-packages (from crunch-cli) (1.4.2)\n",
            "Requirement already satisfied: networkx in /usr/local/lib/python3.10/dist-packages (from crunch-cli) (3.4.2)\n",
            "Requirement already satisfied: packaging in /usr/local/lib/python3.10/dist-packages (from crunch-cli) (24.1)\n",
            "Requirement already satisfied: pandas in /usr/local/lib/python3.10/dist-packages (from crunch-cli) (2.2.2)\n",
            "Requirement already satisfied: psutil in /usr/local/lib/python3.10/dist-packages (from crunch-cli) (5.9.5)\n",
            "Requirement already satisfied: pyarrow in /usr/local/lib/python3.10/dist-packages (from crunch-cli) (17.0.0)\n",
            "Requirement already satisfied: pytest in /usr/local/lib/python3.10/dist-packages (from crunch-cli) (7.4.4)\n",
            "Collecting python-dotenv (from crunch-cli)\n",
            "  Downloading python_dotenv-1.0.1-py3-none-any.whl.metadata (23 kB)\n",
            "Requirement already satisfied: requests in /usr/local/lib/python3.10/dist-packages (from crunch-cli) (2.32.3)\n",
            "Requirement already satisfied: requests-toolbelt in /usr/local/lib/python3.10/dist-packages (from crunch-cli) (1.0.0)\n",
            "Requirement already satisfied: requirements-parser in /usr/local/lib/python3.10/dist-packages (from crunch-cli) (0.9.0)\n",
            "Requirement already satisfied: scikit-learn in /usr/local/lib/python3.10/dist-packages (from crunch-cli) (1.5.2)\n",
            "Requirement already satisfied: scipy in /usr/local/lib/python3.10/dist-packages (from crunch-cli) (1.13.1)\n",
            "Collecting sseclient-py (from crunch-cli)\n",
            "  Downloading sseclient_py-1.8.0-py2.py3-none-any.whl.metadata (2.0 kB)\n",
            "Requirement already satisfied: tqdm in /usr/local/lib/python3.10/dist-packages (from crunch-cli) (4.66.6)\n",
            "Collecting spatialdata-plot (from crunch-cli)\n",
            "  Downloading spatialdata_plot-0.2.7-py3-none-any.whl.metadata (6.9 kB)\n",
            "Collecting humanfriendly>=9.1 (from coloredlogs->crunch-cli)\n",
            "  Downloading humanfriendly-10.0-py2.py3-none-any.whl.metadata (9.2 kB)\n",
            "Collecting marshmallow<4.0.0,>=3.18.0 (from dataclasses-json->crunch-cli)\n",
            "  Downloading marshmallow-3.23.1-py3-none-any.whl.metadata (7.5 kB)\n",
            "Collecting typing-inspect<1,>=0.4.0 (from dataclasses-json->crunch-cli)\n",
            "  Downloading typing_inspect-0.9.0-py3-none-any.whl.metadata (1.5 kB)\n",
            "Requirement already satisfied: zipp>=3.20 in /usr/local/lib/python3.10/dist-packages (from importlib-metadata->crunch-cli) (3.20.2)\n",
            "Collecting blessed>=1.19.0 (from inquirer->crunch-cli)\n",
            "  Downloading blessed-1.20.0-py2.py3-none-any.whl.metadata (13 kB)\n",
            "Collecting editor>=1.6.0 (from inquirer->crunch-cli)\n",
            "  Downloading editor-1.6.6-py3-none-any.whl.metadata (2.3 kB)\n",
            "Collecting readchar>=4.2.0 (from inquirer->crunch-cli)\n",
            "  Downloading readchar-4.2.1-py3-none-any.whl.metadata (7.5 kB)\n",
            "Requirement already satisfied: numpy>=1.22.4 in /usr/local/lib/python3.10/dist-packages (from pandas->crunch-cli) (1.26.4)\n",
            "Requirement already satisfied: python-dateutil>=2.8.2 in /usr/local/lib/python3.10/dist-packages (from pandas->crunch-cli) (2.8.2)\n",
            "Requirement already satisfied: pytz>=2020.1 in /usr/local/lib/python3.10/dist-packages (from pandas->crunch-cli) (2024.2)\n",
            "Requirement already satisfied: tzdata>=2022.7 in /usr/local/lib/python3.10/dist-packages (from pandas->crunch-cli) (2024.2)\n",
            "Requirement already satisfied: iniconfig in /usr/local/lib/python3.10/dist-packages (from pytest->crunch-cli) (2.0.0)\n",
            "Requirement already satisfied: pluggy<2.0,>=0.12 in /usr/local/lib/python3.10/dist-packages (from pytest->crunch-cli) (1.5.0)\n",
            "Requirement already satisfied: exceptiongroup>=1.0.0rc8 in /usr/local/lib/python3.10/dist-packages (from pytest->crunch-cli) (1.2.2)\n",
            "Requirement already satisfied: tomli>=1.0.0 in /usr/local/lib/python3.10/dist-packages (from pytest->crunch-cli) (2.0.2)\n",
            "Requirement already satisfied: charset-normalizer<4,>=2 in /usr/local/lib/python3.10/dist-packages (from requests->crunch-cli) (3.4.0)\n",
            "Requirement already satisfied: idna<4,>=2.5 in /usr/local/lib/python3.10/dist-packages (from requests->crunch-cli) (3.10)\n",
            "Requirement already satisfied: urllib3<3,>=1.21.1 in /usr/local/lib/python3.10/dist-packages (from requests->crunch-cli) (2.2.3)\n",
            "Requirement already satisfied: certifi>=2017.4.17 in /usr/local/lib/python3.10/dist-packages (from requests->crunch-cli) (2024.8.30)\n",
            "Requirement already satisfied: types-setuptools>=69.1.0 in /usr/local/lib/python3.10/dist-packages (from requirements-parser->crunch-cli) (75.3.0.20241105)\n",
            "Requirement already satisfied: threadpoolctl>=3.1.0 in /usr/local/lib/python3.10/dist-packages (from scikit-learn->crunch-cli) (3.5.0)\n",
            "Requirement already satisfied: matplotlib in /usr/local/lib/python3.10/dist-packages (from spatialdata-plot->crunch-cli) (3.8.0)\n",
            "Collecting matplotlib-scalebar (from spatialdata-plot->crunch-cli)\n",
            "  Downloading matplotlib_scalebar-0.8.1-py2.py3-none-any.whl.metadata (13 kB)\n",
            "Collecting scanpy (from spatialdata-plot->crunch-cli)\n",
            "  Downloading scanpy-1.10.3-py3-none-any.whl.metadata (9.4 kB)\n",
            "Collecting spatialdata>=0.2.1 (from spatialdata-plot->crunch-cli)\n",
            "  Downloading spatialdata-0.2.5-py3-none-any.whl.metadata (9.6 kB)\n",
            "Requirement already satisfied: wcwidth>=0.1.4 in /usr/local/lib/python3.10/dist-packages (from blessed>=1.19.0->inquirer->crunch-cli) (0.2.13)\n",
            "Requirement already satisfied: six>=1.9.0 in /usr/local/lib/python3.10/dist-packages (from blessed>=1.19.0->inquirer->crunch-cli) (1.16.0)\n",
            "Collecting runs (from editor>=1.6.0->inquirer->crunch-cli)\n",
            "  Downloading runs-1.2.2-py3-none-any.whl.metadata (10 kB)\n",
            "Collecting xmod (from editor>=1.6.0->inquirer->crunch-cli)\n",
            "  Downloading xmod-1.8.1-py3-none-any.whl.metadata (1.8 kB)\n",
            "Collecting anndata>=0.9.1 (from spatialdata>=0.2.1->spatialdata-plot->crunch-cli)\n",
            "  Downloading anndata-0.11.0-py3-none-any.whl.metadata (8.2 kB)\n",
            "Collecting dask-image (from spatialdata>=0.2.1->spatialdata-plot->crunch-cli)\n",
            "  Downloading dask_image-2024.5.3-py3-none-any.whl.metadata (2.8 kB)\n",
            "Requirement already satisfied: dask>=2024.4.1 in /usr/local/lib/python3.10/dist-packages (from spatialdata>=0.2.1->spatialdata-plot->crunch-cli) (2024.10.0)\n",
            "Collecting fsspec<=2023.6 (from spatialdata>=0.2.1->spatialdata-plot->crunch-cli)\n",
            "  Downloading fsspec-2023.6.0-py3-none-any.whl.metadata (6.7 kB)\n",
            "Requirement already satisfied: geopandas>=0.14 in /usr/local/lib/python3.10/dist-packages (from spatialdata>=0.2.1->spatialdata-plot->crunch-cli) (1.0.1)\n",
            "Collecting multiscale-spatial-image<2.0.0,>=1.0.0 (from spatialdata>=0.2.1->spatialdata-plot->crunch-cli)\n",
            "  Downloading multiscale_spatial_image-1.0.1-py3-none-any.whl.metadata (22 kB)\n",
            "Requirement already satisfied: numba in /usr/local/lib/python3.10/dist-packages (from spatialdata>=0.2.1->spatialdata-plot->crunch-cli) (0.60.0)\n",
            "Collecting ome-zarr>=0.8.4 (from spatialdata>=0.2.1->spatialdata-plot->crunch-cli)\n",
            "  Downloading ome_zarr-0.9.0-py3-none-any.whl.metadata (3.4 kB)\n",
            "Requirement already satisfied: pooch in /usr/local/lib/python3.10/dist-packages (from spatialdata>=0.2.1->spatialdata-plot->crunch-cli) (1.8.2)\n",
            "Requirement already satisfied: rich in /usr/local/lib/python3.10/dist-packages (from spatialdata>=0.2.1->spatialdata-plot->crunch-cli) (13.9.3)\n",
            "Requirement already satisfied: scikit-image in /usr/local/lib/python3.10/dist-packages (from spatialdata>=0.2.1->spatialdata-plot->crunch-cli) (0.24.0)\n",
            "Requirement already satisfied: setuptools in /usr/local/lib/python3.10/dist-packages (from spatialdata>=0.2.1->spatialdata-plot->crunch-cli) (75.1.0)\n",
            "Requirement already satisfied: shapely>=2.0.1 in /usr/local/lib/python3.10/dist-packages (from spatialdata>=0.2.1->spatialdata-plot->crunch-cli) (2.0.6)\n",
            "Collecting spatial-image>=1.1.0 (from spatialdata>=0.2.1->spatialdata-plot->crunch-cli)\n",
            "  Downloading spatial_image-1.1.0-py3-none-any.whl.metadata (5.5 kB)\n",
            "Requirement already satisfied: typing-extensions>=4.8.0 in /usr/local/lib/python3.10/dist-packages (from spatialdata>=0.2.1->spatialdata-plot->crunch-cli) (4.12.2)\n",
            "Collecting xarray-datatree (from spatialdata>=0.2.1->spatialdata-plot->crunch-cli)\n",
            "  Downloading xarray_datatree-0.0.15-py3-none-any.whl.metadata (7.6 kB)\n",
            "Collecting xarray-schema (from spatialdata>=0.2.1->spatialdata-plot->crunch-cli)\n",
            "  Downloading xarray_schema-0.0.3-py3-none-any.whl.metadata (4.3 kB)\n",
            "Collecting xarray-spatial>=0.3.5 (from spatialdata>=0.2.1->spatialdata-plot->crunch-cli)\n",
            "  Downloading xarray_spatial-0.4.0-py3-none-any.whl.metadata (16 kB)\n",
            "Collecting xarray<2024.10.0 (from spatialdata>=0.2.1->spatialdata-plot->crunch-cli)\n",
            "  Downloading xarray-2024.9.0-py3-none-any.whl.metadata (11 kB)\n",
            "Collecting zarr (from spatialdata>=0.2.1->spatialdata-plot->crunch-cli)\n",
            "  Downloading zarr-2.18.3-py3-none-any.whl.metadata (5.7 kB)\n",
            "Collecting mypy-extensions>=0.3.0 (from typing-inspect<1,>=0.4.0->dataclasses-json->crunch-cli)\n",
            "  Downloading mypy_extensions-1.0.0-py3-none-any.whl.metadata (1.1 kB)\n",
            "Requirement already satisfied: contourpy>=1.0.1 in /usr/local/lib/python3.10/dist-packages (from matplotlib->spatialdata-plot->crunch-cli) (1.3.0)\n",
            "Requirement already satisfied: cycler>=0.10 in /usr/local/lib/python3.10/dist-packages (from matplotlib->spatialdata-plot->crunch-cli) (0.12.1)\n",
            "Requirement already satisfied: fonttools>=4.22.0 in /usr/local/lib/python3.10/dist-packages (from matplotlib->spatialdata-plot->crunch-cli) (4.54.1)\n",
            "Requirement already satisfied: kiwisolver>=1.0.1 in /usr/local/lib/python3.10/dist-packages (from matplotlib->spatialdata-plot->crunch-cli) (1.4.7)\n",
            "Requirement already satisfied: pillow>=6.2.0 in /usr/local/lib/python3.10/dist-packages (from matplotlib->spatialdata-plot->crunch-cli) (10.4.0)\n",
            "Requirement already satisfied: pyparsing>=2.3.1 in /usr/local/lib/python3.10/dist-packages (from matplotlib->spatialdata-plot->crunch-cli) (3.2.0)\n",
            "Requirement already satisfied: h5py>=3.1 in /usr/local/lib/python3.10/dist-packages (from scanpy->spatialdata-plot->crunch-cli) (3.12.1)\n",
            "Collecting legacy-api-wrap>=1.4 (from scanpy->spatialdata-plot->crunch-cli)\n",
            "  Downloading legacy_api_wrap-1.4-py3-none-any.whl.metadata (1.8 kB)\n",
            "Requirement already satisfied: natsort in /usr/local/lib/python3.10/dist-packages (from scanpy->spatialdata-plot->crunch-cli) (8.4.0)\n",
            "Requirement already satisfied: patsy in /usr/local/lib/python3.10/dist-packages (from scanpy->spatialdata-plot->crunch-cli) (0.5.6)\n",
            "Collecting pynndescent>=0.5 (from scanpy->spatialdata-plot->crunch-cli)\n",
            "  Downloading pynndescent-0.5.13-py3-none-any.whl.metadata (6.8 kB)\n",
            "Requirement already satisfied: seaborn>=0.13 in /usr/local/lib/python3.10/dist-packages (from scanpy->spatialdata-plot->crunch-cli) (0.13.2)\n",
            "Collecting session-info (from scanpy->spatialdata-plot->crunch-cli)\n",
            "  Downloading session_info-1.0.0.tar.gz (24 kB)\n",
            "  Preparing metadata (setup.py) ... \u001b[?25l\u001b[?25hdone\n",
            "Requirement already satisfied: statsmodels>=0.13 in /usr/local/lib/python3.10/dist-packages (from scanpy->spatialdata-plot->crunch-cli) (0.14.4)\n",
            "Collecting umap-learn!=0.5.0,>=0.5 (from scanpy->spatialdata-plot->crunch-cli)\n",
            "  Downloading umap_learn-0.5.7-py3-none-any.whl.metadata (21 kB)\n",
            "Collecting array-api-compat!=1.5,>1.4 (from anndata>=0.9.1->spatialdata>=0.2.1->spatialdata-plot->crunch-cli)\n",
            "  Downloading array_api_compat-1.9.1-py3-none-any.whl.metadata (1.6 kB)\n",
            "Requirement already satisfied: cloudpickle>=3.0.0 in /usr/local/lib/python3.10/dist-packages (from dask>=2024.4.1->spatialdata>=0.2.1->spatialdata-plot->crunch-cli) (3.1.0)\n",
            "Requirement already satisfied: partd>=1.4.0 in /usr/local/lib/python3.10/dist-packages (from dask>=2024.4.1->spatialdata>=0.2.1->spatialdata-plot->crunch-cli) (1.4.2)\n",
            "Requirement already satisfied: pyyaml>=5.3.1 in /usr/local/lib/python3.10/dist-packages (from dask>=2024.4.1->spatialdata>=0.2.1->spatialdata-plot->crunch-cli) (6.0.2)\n",
            "Requirement already satisfied: toolz>=0.10.0 in /usr/local/lib/python3.10/dist-packages (from dask>=2024.4.1->spatialdata>=0.2.1->spatialdata-plot->crunch-cli) (0.12.1)\n",
            "Requirement already satisfied: pyogrio>=0.7.2 in /usr/local/lib/python3.10/dist-packages (from geopandas>=0.14->spatialdata>=0.2.1->spatialdata-plot->crunch-cli) (0.10.0)\n",
            "Requirement already satisfied: pyproj>=3.3.0 in /usr/local/lib/python3.10/dist-packages (from geopandas>=0.14->spatialdata>=0.2.1->spatialdata-plot->crunch-cli) (3.7.0)\n",
            "Requirement already satisfied: llvmlite<0.44,>=0.43.0dev0 in /usr/local/lib/python3.10/dist-packages (from numba->spatialdata>=0.2.1->spatialdata-plot->crunch-cli) (0.43.0)\n",
            "Requirement already satisfied: aiohttp<4 in /usr/local/lib/python3.10/dist-packages (from ome-zarr>=0.8.4->spatialdata>=0.2.1->spatialdata-plot->crunch-cli) (3.10.10)\n",
            "Collecting distributed (from ome-zarr>=0.8.4->spatialdata>=0.2.1->spatialdata-plot->crunch-cli)\n",
            "  Downloading distributed-2024.10.0-py3-none-any.whl.metadata (3.3 kB)\n",
            "Collecting xarray-dataclasses>=1.1.0 (from spatial-image>=1.1.0->spatialdata>=0.2.1->spatialdata-plot->crunch-cli)\n",
            "  Downloading xarray_dataclasses-1.8.0-py3-none-any.whl.metadata (10 kB)\n",
            "Collecting xarray<2024.10.0 (from spatialdata>=0.2.1->spatialdata-plot->crunch-cli)\n",
            "  Downloading xarray-2024.7.0-py3-none-any.whl.metadata (11 kB)\n",
            "Collecting datashader>=0.15.0 (from xarray-spatial>=0.3.5->spatialdata>=0.2.1->spatialdata-plot->crunch-cli)\n",
            "  Downloading datashader-0.16.3-py2.py3-none-any.whl.metadata (12 kB)\n",
            "Collecting asciitree (from zarr->spatialdata>=0.2.1->spatialdata-plot->crunch-cli)\n",
            "  Downloading asciitree-0.3.3.tar.gz (4.0 kB)\n",
            "  Preparing metadata (setup.py) ... \u001b[?25l\u001b[?25hdone\n",
            "Collecting numcodecs>=0.10.0 (from zarr->spatialdata>=0.2.1->spatialdata-plot->crunch-cli)\n",
            "  Downloading numcodecs-0.13.1-cp310-cp310-manylinux_2_17_x86_64.manylinux2014_x86_64.whl.metadata (2.9 kB)\n",
            "Collecting fasteners (from zarr->spatialdata>=0.2.1->spatialdata-plot->crunch-cli)\n",
            "  Downloading fasteners-0.19-py3-none-any.whl.metadata (4.9 kB)\n",
            "Collecting pims>=0.4.1 (from dask-image->spatialdata>=0.2.1->spatialdata-plot->crunch-cli)\n",
            "  Downloading pims-0.7.tar.gz (87 kB)\n",
            "\u001b[2K     \u001b[90m━━━━━━━━━━━━━━━━━━━━━━━━━━━━━━━━━━━━━━━━\u001b[0m \u001b[32m87.8/87.8 kB\u001b[0m \u001b[31m4.2 MB/s\u001b[0m eta \u001b[36m0:00:00\u001b[0m\n",
            "\u001b[?25h  Preparing metadata (setup.py) ... \u001b[?25l\u001b[?25hdone\n",
            "Requirement already satisfied: tifffile>=2018.10.18 in /usr/local/lib/python3.10/dist-packages (from dask-image->spatialdata>=0.2.1->spatialdata-plot->crunch-cli) (2024.9.20)\n",
            "Requirement already satisfied: platformdirs>=2.5.0 in /usr/local/lib/python3.10/dist-packages (from pooch->spatialdata>=0.2.1->spatialdata-plot->crunch-cli) (4.3.6)\n",
            "Requirement already satisfied: markdown-it-py>=2.2.0 in /usr/local/lib/python3.10/dist-packages (from rich->spatialdata>=0.2.1->spatialdata-plot->crunch-cli) (3.0.0)\n",
            "Requirement already satisfied: pygments<3.0.0,>=2.13.0 in /usr/local/lib/python3.10/dist-packages (from rich->spatialdata>=0.2.1->spatialdata-plot->crunch-cli) (2.18.0)\n",
            "Requirement already satisfied: imageio>=2.33 in /usr/local/lib/python3.10/dist-packages (from scikit-image->spatialdata>=0.2.1->spatialdata-plot->crunch-cli) (2.36.0)\n",
            "Requirement already satisfied: lazy-loader>=0.4 in /usr/local/lib/python3.10/dist-packages (from scikit-image->spatialdata>=0.2.1->spatialdata-plot->crunch-cli) (0.4)\n",
            "Collecting stdlib_list (from session-info->scanpy->spatialdata-plot->crunch-cli)\n",
            "  Downloading stdlib_list-0.11.0-py3-none-any.whl.metadata (3.3 kB)\n",
            "Requirement already satisfied: aiohappyeyeballs>=2.3.0 in /usr/local/lib/python3.10/dist-packages (from aiohttp<4->ome-zarr>=0.8.4->spatialdata>=0.2.1->spatialdata-plot->crunch-cli) (2.4.3)\n",
            "Requirement already satisfied: aiosignal>=1.1.2 in /usr/local/lib/python3.10/dist-packages (from aiohttp<4->ome-zarr>=0.8.4->spatialdata>=0.2.1->spatialdata-plot->crunch-cli) (1.3.1)\n",
            "Requirement already satisfied: attrs>=17.3.0 in /usr/local/lib/python3.10/dist-packages (from aiohttp<4->ome-zarr>=0.8.4->spatialdata>=0.2.1->spatialdata-plot->crunch-cli) (24.2.0)\n",
            "Requirement already satisfied: frozenlist>=1.1.1 in /usr/local/lib/python3.10/dist-packages (from aiohttp<4->ome-zarr>=0.8.4->spatialdata>=0.2.1->spatialdata-plot->crunch-cli) (1.5.0)\n",
            "Requirement already satisfied: multidict<7.0,>=4.5 in /usr/local/lib/python3.10/dist-packages (from aiohttp<4->ome-zarr>=0.8.4->spatialdata>=0.2.1->spatialdata-plot->crunch-cli) (6.1.0)\n",
            "Requirement already satisfied: yarl<2.0,>=1.12.0 in /usr/local/lib/python3.10/dist-packages (from aiohttp<4->ome-zarr>=0.8.4->spatialdata>=0.2.1->spatialdata-plot->crunch-cli) (1.17.0)\n",
            "Requirement already satisfied: async-timeout<5.0,>=4.0 in /usr/local/lib/python3.10/dist-packages (from aiohttp<4->ome-zarr>=0.8.4->spatialdata>=0.2.1->spatialdata-plot->crunch-cli) (4.0.3)\n",
            "Collecting dask-expr<1.2,>=1.1 (from dask[array,dataframe]>=2024.4.1->dask-image->spatialdata>=0.2.1->spatialdata-plot->crunch-cli)\n",
            "  Downloading dask_expr-1.1.16-py3-none-any.whl.metadata (2.5 kB)\n",
            "Requirement already satisfied: colorcet in /usr/local/lib/python3.10/dist-packages (from datashader>=0.15.0->xarray-spatial>=0.3.5->spatialdata>=0.2.1->spatialdata-plot->crunch-cli) (3.1.0)\n",
            "Requirement already satisfied: multipledispatch in /usr/local/lib/python3.10/dist-packages (from datashader>=0.15.0->xarray-spatial>=0.3.5->spatialdata>=0.2.1->spatialdata-plot->crunch-cli) (1.0.0)\n",
            "Requirement already satisfied: param in /usr/local/lib/python3.10/dist-packages (from datashader>=0.15.0->xarray-spatial>=0.3.5->spatialdata>=0.2.1->spatialdata-plot->crunch-cli) (2.1.1)\n",
            "Collecting pyct (from datashader>=0.15.0->xarray-spatial>=0.3.5->spatialdata>=0.2.1->spatialdata-plot->crunch-cli)\n",
            "  Downloading pyct-0.5.0-py2.py3-none-any.whl.metadata (7.4 kB)\n",
            "Collecting s3fs (from fsspec[s3]!=2021.07.0,>=0.8->ome-zarr>=0.8.4->spatialdata>=0.2.1->spatialdata-plot->crunch-cli)\n",
            "  Downloading s3fs-2024.10.0-py3-none-any.whl.metadata (1.7 kB)\n",
            "Requirement already satisfied: mdurl~=0.1 in /usr/local/lib/python3.10/dist-packages (from markdown-it-py>=2.2.0->rich->spatialdata>=0.2.1->spatialdata-plot->crunch-cli) (0.1.2)\n",
            "Requirement already satisfied: locket in /usr/local/lib/python3.10/dist-packages (from partd>=1.4.0->dask>=2024.4.1->spatialdata>=0.2.1->spatialdata-plot->crunch-cli) (1.0.0)\n",
            "Collecting slicerator>=0.9.8 (from pims>=0.4.1->dask-image->spatialdata>=0.2.1->spatialdata-plot->crunch-cli)\n",
            "  Downloading slicerator-1.1.0-py3-none-any.whl.metadata (1.9 kB)\n",
            "Requirement already satisfied: jinja2>=2.10.3 in /usr/local/lib/python3.10/dist-packages (from distributed->ome-zarr>=0.8.4->spatialdata>=0.2.1->spatialdata-plot->crunch-cli) (3.1.4)\n",
            "Requirement already satisfied: msgpack>=1.0.2 in /usr/local/lib/python3.10/dist-packages (from distributed->ome-zarr>=0.8.4->spatialdata>=0.2.1->spatialdata-plot->crunch-cli) (1.1.0)\n",
            "Collecting sortedcontainers>=2.0.5 (from distributed->ome-zarr>=0.8.4->spatialdata>=0.2.1->spatialdata-plot->crunch-cli)\n",
            "  Downloading sortedcontainers-2.4.0-py2.py3-none-any.whl.metadata (10 kB)\n",
            "Collecting tblib>=1.6.0 (from distributed->ome-zarr>=0.8.4->spatialdata>=0.2.1->spatialdata-plot->crunch-cli)\n",
            "  Downloading tblib-3.0.0-py3-none-any.whl.metadata (25 kB)\n",
            "Requirement already satisfied: tornado>=6.2.0 in /usr/local/lib/python3.10/dist-packages (from distributed->ome-zarr>=0.8.4->spatialdata>=0.2.1->spatialdata-plot->crunch-cli) (6.3.3)\n",
            "Collecting zict>=3.0.0 (from distributed->ome-zarr>=0.8.4->spatialdata>=0.2.1->spatialdata-plot->crunch-cli)\n",
            "  Downloading zict-3.0.0-py2.py3-none-any.whl.metadata (899 bytes)\n",
            "Requirement already satisfied: MarkupSafe>=2.0 in /usr/local/lib/python3.10/dist-packages (from jinja2>=2.10.3->distributed->ome-zarr>=0.8.4->spatialdata>=0.2.1->spatialdata-plot->crunch-cli) (3.0.2)\n",
            "Requirement already satisfied: propcache>=0.2.0 in /usr/local/lib/python3.10/dist-packages (from yarl<2.0,>=1.12.0->aiohttp<4->ome-zarr>=0.8.4->spatialdata>=0.2.1->spatialdata-plot->crunch-cli) (0.2.0)\n",
            "Collecting aiobotocore<3.0.0,>=2.5.4 (from s3fs->fsspec[s3]!=2021.07.0,>=0.8->ome-zarr>=0.8.4->spatialdata>=0.2.1->spatialdata-plot->crunch-cli)\n",
            "  Downloading aiobotocore-2.15.2-py3-none-any.whl.metadata (23 kB)\n",
            "INFO: pip is looking at multiple versions of s3fs to determine which version is compatible with other requirements. This could take a while.\n",
            "Collecting s3fs (from fsspec[s3]!=2021.07.0,>=0.8->ome-zarr>=0.8.4->spatialdata>=0.2.1->spatialdata-plot->crunch-cli)\n",
            "  Downloading s3fs-2024.9.0-py3-none-any.whl.metadata (1.6 kB)\n",
            "  Downloading s3fs-2024.6.1-py3-none-any.whl.metadata (1.6 kB)\n",
            "  Downloading s3fs-2024.6.0-py3-none-any.whl.metadata (1.6 kB)\n",
            "  Downloading s3fs-2024.5.0-py3-none-any.whl.metadata (1.6 kB)\n",
            "  Downloading s3fs-2024.3.1-py3-none-any.whl.metadata (1.6 kB)\n",
            "  Downloading s3fs-2024.3.0-py3-none-any.whl.metadata (1.6 kB)\n",
            "  Downloading s3fs-2024.2.0-py3-none-any.whl.metadata (1.6 kB)\n",
            "INFO: pip is still looking at multiple versions of s3fs to determine which version is compatible with other requirements. This could take a while.\n",
            "  Downloading s3fs-2023.12.2-py3-none-any.whl.metadata (1.6 kB)\n",
            "  Downloading s3fs-2023.12.1-py3-none-any.whl.metadata (1.6 kB)\n",
            "  Downloading s3fs-2023.10.0-py3-none-any.whl.metadata (1.6 kB)\n",
            "Collecting aiobotocore~=2.7.0 (from s3fs->fsspec[s3]!=2021.07.0,>=0.8->ome-zarr>=0.8.4->spatialdata>=0.2.1->spatialdata-plot->crunch-cli)\n",
            "  Downloading aiobotocore-2.7.0-py3-none-any.whl.metadata (20 kB)\n",
            "Collecting s3fs (from fsspec[s3]!=2021.07.0,>=0.8->ome-zarr>=0.8.4->spatialdata>=0.2.1->spatialdata-plot->crunch-cli)\n",
            "  Downloading s3fs-2023.9.2-py3-none-any.whl.metadata (1.6 kB)\n",
            "Collecting aiobotocore~=2.5.4 (from s3fs->fsspec[s3]!=2021.07.0,>=0.8->ome-zarr>=0.8.4->spatialdata>=0.2.1->spatialdata-plot->crunch-cli)\n",
            "  Downloading aiobotocore-2.5.4-py3-none-any.whl.metadata (19 kB)\n",
            "Collecting s3fs (from fsspec[s3]!=2021.07.0,>=0.8->ome-zarr>=0.8.4->spatialdata>=0.2.1->spatialdata-plot->crunch-cli)\n",
            "  Downloading s3fs-2023.9.1-py3-none-any.whl.metadata (1.6 kB)\n",
            "INFO: This is taking longer than usual. You might need to provide the dependency resolver with stricter constraints to reduce runtime. See https://pip.pypa.io/warnings/backtracking for guidance. If you want to abort this run, press Ctrl + C.\n",
            "  Downloading s3fs-2023.9.0-py3-none-any.whl.metadata (1.6 kB)\n",
            "  Downloading s3fs-2023.6.0-py3-none-any.whl.metadata (1.6 kB)\n",
            "Collecting botocore<1.31.18,>=1.31.17 (from aiobotocore~=2.5.4->s3fs->fsspec[s3]!=2021.07.0,>=0.8->ome-zarr>=0.8.4->spatialdata>=0.2.1->spatialdata-plot->crunch-cli)\n",
            "  Downloading botocore-1.31.17-py3-none-any.whl.metadata (5.9 kB)\n",
            "Requirement already satisfied: wrapt<2.0.0,>=1.10.10 in /usr/local/lib/python3.10/dist-packages (from aiobotocore~=2.5.4->s3fs->fsspec[s3]!=2021.07.0,>=0.8->ome-zarr>=0.8.4->spatialdata>=0.2.1->spatialdata-plot->crunch-cli) (1.16.0)\n",
            "Collecting aioitertools<1.0.0,>=0.5.1 (from aiobotocore~=2.5.4->s3fs->fsspec[s3]!=2021.07.0,>=0.8->ome-zarr>=0.8.4->spatialdata>=0.2.1->spatialdata-plot->crunch-cli)\n",
            "  Downloading aioitertools-0.12.0-py3-none-any.whl.metadata (3.8 kB)\n",
            "Collecting jmespath<2.0.0,>=0.7.1 (from botocore<1.31.18,>=1.31.17->aiobotocore~=2.5.4->s3fs->fsspec[s3]!=2021.07.0,>=0.8->ome-zarr>=0.8.4->spatialdata>=0.2.1->spatialdata-plot->crunch-cli)\n",
            "  Downloading jmespath-1.0.1-py3-none-any.whl.metadata (7.6 kB)\n",
            "Collecting urllib3<3,>=1.21.1 (from requests->crunch-cli)\n",
            "  Downloading urllib3-1.26.20-py2.py3-none-any.whl.metadata (50 kB)\n",
            "\u001b[2K     \u001b[90m━━━━━━━━━━━━━━━━━━━━━━━━━━━━━━━━━━━━━━━━\u001b[0m \u001b[32m50.1/50.1 kB\u001b[0m \u001b[31m3.1 MB/s\u001b[0m eta \u001b[36m0:00:00\u001b[0m\n",
            "\u001b[?25hDownloading crunch_cli-5.2.0-py3-none-any.whl (89 kB)\n",
            "\u001b[2K   \u001b[90m━━━━━━━━━━━━━━━━━━━━━━━━━━━━━━━━━━━━━━━━\u001b[0m \u001b[32m89.2/89.2 kB\u001b[0m \u001b[31m6.1 MB/s\u001b[0m eta \u001b[36m0:00:00\u001b[0m\n",
            "\u001b[?25hDownloading astor-0.8.1-py2.py3-none-any.whl (27 kB)\n",
            "Downloading coloredlogs-15.0.1-py2.py3-none-any.whl (46 kB)\n",
            "\u001b[2K   \u001b[90m━━━━━━━━━━━━━━━━━━━━━━━━━━━━━━━━━━━━━━━━\u001b[0m \u001b[32m46.0/46.0 kB\u001b[0m \u001b[31m2.4 MB/s\u001b[0m eta \u001b[36m0:00:00\u001b[0m\n",
            "\u001b[?25hDownloading dataclasses_json-0.6.7-py3-none-any.whl (28 kB)\n",
            "Downloading inquirer-3.4.0-py3-none-any.whl (18 kB)\n",
            "Downloading python_dotenv-1.0.1-py3-none-any.whl (19 kB)\n",
            "Downloading spatialdata_plot-0.2.7-py3-none-any.whl (43 kB)\n",
            "\u001b[2K   \u001b[90m━━━━━━━━━━━━━━━━━━━━━━━━━━━━━━━━━━━━━━━━\u001b[0m \u001b[32m43.9/43.9 kB\u001b[0m \u001b[31m2.7 MB/s\u001b[0m eta \u001b[36m0:00:00\u001b[0m\n",
            "\u001b[?25hDownloading sseclient_py-1.8.0-py2.py3-none-any.whl (8.8 kB)\n",
            "Downloading blessed-1.20.0-py2.py3-none-any.whl (58 kB)\n",
            "\u001b[2K   \u001b[90m━━━━━━━━━━━━━━━━━━━━━━━━━━━━━━━━━━━━━━━━\u001b[0m \u001b[32m58.4/58.4 kB\u001b[0m \u001b[31m2.8 MB/s\u001b[0m eta \u001b[36m0:00:00\u001b[0m\n",
            "\u001b[?25hDownloading editor-1.6.6-py3-none-any.whl (4.0 kB)\n",
            "Downloading humanfriendly-10.0-py2.py3-none-any.whl (86 kB)\n",
            "\u001b[2K   \u001b[90m━━━━━━━━━━━━━━━━━━━━━━━━━━━━━━━━━━━━━━━━\u001b[0m \u001b[32m86.8/86.8 kB\u001b[0m \u001b[31m4.4 MB/s\u001b[0m eta \u001b[36m0:00:00\u001b[0m\n",
            "\u001b[?25hDownloading marshmallow-3.23.1-py3-none-any.whl (49 kB)\n",
            "\u001b[2K   \u001b[90m━━━━━━━━━━━━━━━━━━━━━━━━━━━━━━━━━━━━━━━━\u001b[0m \u001b[32m49.5/49.5 kB\u001b[0m \u001b[31m3.0 MB/s\u001b[0m eta \u001b[36m0:00:00\u001b[0m\n",
            "\u001b[?25hDownloading readchar-4.2.1-py3-none-any.whl (9.3 kB)\n",
            "Downloading spatialdata-0.2.5-py3-none-any.whl (166 kB)\n",
            "\u001b[2K   \u001b[90m━━━━━━━━━━━━━━━━━━━━━━━━━━━━━━━━━━━━━━━━\u001b[0m \u001b[32m166.9/166.9 kB\u001b[0m \u001b[31m9.2 MB/s\u001b[0m eta \u001b[36m0:00:00\u001b[0m\n",
            "\u001b[?25hDownloading typing_inspect-0.9.0-py3-none-any.whl (8.8 kB)\n",
            "Downloading matplotlib_scalebar-0.8.1-py2.py3-none-any.whl (17 kB)\n",
            "Downloading scanpy-1.10.3-py3-none-any.whl (2.1 MB)\n",
            "\u001b[2K   \u001b[90m━━━━━━━━━━━━━━━━━━━━━━━━━━━━━━━━━━━━━━━━\u001b[0m \u001b[32m2.1/2.1 MB\u001b[0m \u001b[31m30.2 MB/s\u001b[0m eta \u001b[36m0:00:00\u001b[0m\n",
            "\u001b[?25hDownloading anndata-0.11.0-py3-none-any.whl (141 kB)\n",
            "\u001b[2K   \u001b[90m━━━━━━━━━━━━━━━━━━━━━━━━━━━━━━━━━━━━━━━━\u001b[0m \u001b[32m141.7/141.7 kB\u001b[0m \u001b[31m8.0 MB/s\u001b[0m eta \u001b[36m0:00:00\u001b[0m\n",
            "\u001b[?25hDownloading fsspec-2023.6.0-py3-none-any.whl (163 kB)\n",
            "\u001b[2K   \u001b[90m━━━━━━━━━━━━━━━━━━━━━━━━━━━━━━━━━━━━━━━━\u001b[0m \u001b[32m163.8/163.8 kB\u001b[0m \u001b[31m11.2 MB/s\u001b[0m eta \u001b[36m0:00:00\u001b[0m\n",
            "\u001b[?25hDownloading legacy_api_wrap-1.4-py3-none-any.whl (15 kB)\n",
            "Downloading multiscale_spatial_image-1.0.1-py3-none-any.whl (25 kB)\n",
            "Downloading mypy_extensions-1.0.0-py3-none-any.whl (4.7 kB)\n",
            "Downloading ome_zarr-0.9.0-py3-none-any.whl (37 kB)\n",
            "Downloading pynndescent-0.5.13-py3-none-any.whl (56 kB)\n",
            "\u001b[2K   \u001b[90m━━━━━━━━━━━━━━━━━━━━━━━━━━━━━━━━━━━━━━━━\u001b[0m \u001b[32m56.9/56.9 kB\u001b[0m \u001b[31m3.9 MB/s\u001b[0m eta \u001b[36m0:00:00\u001b[0m\n",
            "\u001b[?25hDownloading spatial_image-1.1.0-py3-none-any.whl (8.0 kB)\n",
            "Downloading umap_learn-0.5.7-py3-none-any.whl (88 kB)\n",
            "\u001b[2K   \u001b[90m━━━━━━━━━━━━━━━━━━━━━━━━━━━━━━━━━━━━━━━━\u001b[0m \u001b[32m88.8/88.8 kB\u001b[0m \u001b[31m5.8 MB/s\u001b[0m eta \u001b[36m0:00:00\u001b[0m\n",
            "\u001b[?25hDownloading xarray_datatree-0.0.15-py3-none-any.whl (64 kB)\n",
            "\u001b[2K   \u001b[90m━━━━━━━━━━━━━━━━━━━━━━━━━━━━━━━━━━━━━━━━\u001b[0m \u001b[32m64.3/64.3 kB\u001b[0m \u001b[31m4.0 MB/s\u001b[0m eta \u001b[36m0:00:00\u001b[0m\n",
            "\u001b[?25hDownloading xarray-2024.7.0-py3-none-any.whl (1.2 MB)\n",
            "\u001b[2K   \u001b[90m━━━━━━━━━━━━━━━━━━━━━━━━━━━━━━━━━━━━━━━━\u001b[0m \u001b[32m1.2/1.2 MB\u001b[0m \u001b[31m23.6 MB/s\u001b[0m eta \u001b[36m0:00:00\u001b[0m\n",
            "\u001b[?25hDownloading xarray_spatial-0.4.0-py3-none-any.whl (2.0 MB)\n",
            "\u001b[2K   \u001b[90m━━━━━━━━━━━━━━━━━━━━━━━━━━━━━━━━━━━━━━━━\u001b[0m \u001b[32m2.0/2.0 MB\u001b[0m \u001b[31m33.6 MB/s\u001b[0m eta \u001b[36m0:00:00\u001b[0m\n",
            "\u001b[?25hDownloading zarr-2.18.3-py3-none-any.whl (210 kB)\n",
            "\u001b[2K   \u001b[90m━━━━━━━━━━━━━━━━━━━━━━━━━━━━━━━━━━━━━━━━\u001b[0m \u001b[32m210.7/210.7 kB\u001b[0m \u001b[31m13.7 MB/s\u001b[0m eta \u001b[36m0:00:00\u001b[0m\n",
            "\u001b[?25hDownloading dask_image-2024.5.3-py3-none-any.whl (59 kB)\n",
            "\u001b[2K   \u001b[90m━━━━━━━━━━━━━━━━━━━━━━━━━━━━━━━━━━━━━━━━\u001b[0m \u001b[32m59.5/59.5 kB\u001b[0m \u001b[31m3.9 MB/s\u001b[0m eta \u001b[36m0:00:00\u001b[0m\n",
            "\u001b[?25hDownloading runs-1.2.2-py3-none-any.whl (7.0 kB)\n",
            "Downloading xarray_schema-0.0.3-py3-none-any.whl (10 kB)\n",
            "Downloading xmod-1.8.1-py3-none-any.whl (4.6 kB)\n",
            "Downloading array_api_compat-1.9.1-py3-none-any.whl (50 kB)\n",
            "\u001b[2K   \u001b[90m━━━━━━━━━━━━━━━━━━━━━━━━━━━━━━━━━━━━━━━━\u001b[0m \u001b[32m50.1/50.1 kB\u001b[0m \u001b[31m3.6 MB/s\u001b[0m eta \u001b[36m0:00:00\u001b[0m\n",
            "\u001b[?25hDownloading datashader-0.16.3-py2.py3-none-any.whl (18.3 MB)\n",
            "\u001b[2K   \u001b[90m━━━━━━━━━━━━━━━━━━━━━━━━━━━━━━━━━━━━━━━━\u001b[0m \u001b[32m18.3/18.3 MB\u001b[0m \u001b[31m49.5 MB/s\u001b[0m eta \u001b[36m0:00:00\u001b[0m\n",
            "\u001b[?25hDownloading numcodecs-0.13.1-cp310-cp310-manylinux_2_17_x86_64.manylinux2014_x86_64.whl (8.6 MB)\n",
            "\u001b[2K   \u001b[90m━━━━━━━━━━━━━━━━━━━━━━━━━━━━━━━━━━━━━━━━\u001b[0m \u001b[32m8.6/8.6 MB\u001b[0m \u001b[31m59.8 MB/s\u001b[0m eta \u001b[36m0:00:00\u001b[0m\n",
            "\u001b[?25hDownloading xarray_dataclasses-1.8.0-py3-none-any.whl (14 kB)\n",
            "Downloading distributed-2024.10.0-py3-none-any.whl (1.0 MB)\n",
            "\u001b[2K   \u001b[90m━━━━━━━━━━━━━━━━━━━━━━━━━━━━━━━━━━━━━━━━\u001b[0m \u001b[32m1.0/1.0 MB\u001b[0m \u001b[31m29.8 MB/s\u001b[0m eta \u001b[36m0:00:00\u001b[0m\n",
            "\u001b[?25hDownloading fasteners-0.19-py3-none-any.whl (18 kB)\n",
            "Downloading stdlib_list-0.11.0-py3-none-any.whl (83 kB)\n",
            "\u001b[2K   \u001b[90m━━━━━━━━━━━━━━━━━━━━━━━━━━━━━━━━━━━━━━━━\u001b[0m \u001b[32m83.6/83.6 kB\u001b[0m \u001b[31m6.0 MB/s\u001b[0m eta \u001b[36m0:00:00\u001b[0m\n",
            "\u001b[?25hDownloading dask_expr-1.1.16-py3-none-any.whl (243 kB)\n",
            "\u001b[2K   \u001b[90m━━━━━━━━━━━━━━━━━━━━━━━━━━━━━━━━━━━━━━━━\u001b[0m \u001b[32m243.2/243.2 kB\u001b[0m \u001b[31m15.7 MB/s\u001b[0m eta \u001b[36m0:00:00\u001b[0m\n",
            "\u001b[?25hDownloading slicerator-1.1.0-py3-none-any.whl (10 kB)\n",
            "Downloading sortedcontainers-2.4.0-py2.py3-none-any.whl (29 kB)\n",
            "Downloading tblib-3.0.0-py3-none-any.whl (12 kB)\n",
            "Downloading zict-3.0.0-py2.py3-none-any.whl (43 kB)\n",
            "\u001b[2K   \u001b[90m━━━━━━━━━━━━━━━━━━━━━━━━━━━━━━━━━━━━━━━━\u001b[0m \u001b[32m43.3/43.3 kB\u001b[0m \u001b[31m2.3 MB/s\u001b[0m eta \u001b[36m0:00:00\u001b[0m\n",
            "\u001b[?25hDownloading pyct-0.5.0-py2.py3-none-any.whl (15 kB)\n",
            "Downloading s3fs-2023.6.0-py3-none-any.whl (28 kB)\n",
            "Downloading aiobotocore-2.5.4-py3-none-any.whl (73 kB)\n",
            "\u001b[2K   \u001b[90m━━━━━━━━━━━━━━━━━━━━━━━━━━━━━━━━━━━━━━━━\u001b[0m \u001b[32m73.4/73.4 kB\u001b[0m \u001b[31m3.9 MB/s\u001b[0m eta \u001b[36m0:00:00\u001b[0m\n",
            "\u001b[?25hDownloading aioitertools-0.12.0-py3-none-any.whl (24 kB)\n",
            "Downloading botocore-1.31.17-py3-none-any.whl (11.1 MB)\n",
            "\u001b[2K   \u001b[90m━━━━━━━━━━━━━━━━━━━━━━━━━━━━━━━━━━━━━━━━\u001b[0m \u001b[32m11.1/11.1 MB\u001b[0m \u001b[31m51.7 MB/s\u001b[0m eta \u001b[36m0:00:00\u001b[0m\n",
            "\u001b[?25hDownloading urllib3-1.26.20-py2.py3-none-any.whl (144 kB)\n",
            "\u001b[2K   \u001b[90m━━━━━━━━━━━━━━━━━━━━━━━━━━━━━━━━━━━━━━━━\u001b[0m \u001b[32m144.2/144.2 kB\u001b[0m \u001b[31m7.2 MB/s\u001b[0m eta \u001b[36m0:00:00\u001b[0m\n",
            "\u001b[?25hDownloading jmespath-1.0.1-py3-none-any.whl (20 kB)\n",
            "Building wheels for collected packages: gitignorefile, session-info, pims, asciitree\n",
            "  Building wheel for gitignorefile (pyproject.toml) ... \u001b[?25l\u001b[?25hdone\n",
            "  Created wheel for gitignorefile: filename=gitignorefile-1.1.2-py3-none-any.whl size=6675 sha256=7e9b08e4f0c836a2c2434eae135ce45b7f6a104f55b07e2dbbd33aef45ef587e\n",
            "  Stored in directory: /root/.cache/pip/wheels/6d/dc/c7/5875272151d55a37a44c163d1bddb1cdfff35278b82dcf4ba7\n",
            "  Building wheel for session-info (setup.py) ... \u001b[?25l\u001b[?25hdone\n",
            "  Created wheel for session-info: filename=session_info-1.0.0-py3-none-any.whl size=8023 sha256=1b54469bff853e7530a8e3de733618e82608db248dc2ea008d802ed06864b3ff\n",
            "  Stored in directory: /root/.cache/pip/wheels/6a/aa/b9/eb5d4031476ec10802795b97ccf937b9bd998d68a9b268765a\n",
            "  Building wheel for pims (setup.py) ... \u001b[?25l\u001b[?25hdone\n",
            "  Created wheel for pims: filename=PIMS-0.7-py3-none-any.whl size=84591 sha256=0b9f71d7d144b33769f6a94df672b7f889a9c054d1e32d624f1fdb65ac11db21\n",
            "  Stored in directory: /root/.cache/pip/wheels/54/cb/f1/939f4adc0c5bcb1a1a78566d67869368d3d8dc8abd84f63c38\n",
            "  Building wheel for asciitree (setup.py) ... \u001b[?25l\u001b[?25hdone\n",
            "  Created wheel for asciitree: filename=asciitree-0.3.3-py3-none-any.whl size=5034 sha256=cd120e0bd2d70ef83f369526193edbb7a2fed0c75938451beb7f1121fdc4cdda\n",
            "  Stored in directory: /root/.cache/pip/wheels/7f/4e/be/1171b40f43b918087657ec57cf3b81fa1a2e027d8755baa184\n",
            "Successfully built gitignorefile session-info pims asciitree\n",
            "Installing collected packages: sseclient-py, sortedcontainers, slicerator, gitignorefile, asciitree, zict, xmod, urllib3, tblib, stdlib_list, readchar, python-dotenv, pyct, numcodecs, mypy-extensions, marshmallow, legacy-api-wrap, jmespath, humanfriendly, fsspec, fasteners, blessed, astor, array-api-compat, aioitertools, zarr, typing-inspect, session-info, runs, pims, coloredlogs, botocore, xarray, pynndescent, matplotlib-scalebar, editor, distributed, dataclasses-json, dask-expr, anndata, xarray-schema, xarray-datatree, xarray-dataclasses, umap-learn, inquirer, datashader, aiobotocore, xarray-spatial, spatial-image, scanpy, s3fs, dask-image, multiscale-spatial-image, ome-zarr, spatialdata, spatialdata-plot, crunch-cli\n",
            "  Attempting uninstall: urllib3\n",
            "    Found existing installation: urllib3 2.2.3\n",
            "    Uninstalling urllib3-2.2.3:\n",
            "      Successfully uninstalled urllib3-2.2.3\n",
            "  Attempting uninstall: fsspec\n",
            "    Found existing installation: fsspec 2024.10.0\n",
            "    Uninstalling fsspec-2024.10.0:\n",
            "      Successfully uninstalled fsspec-2024.10.0\n",
            "  Attempting uninstall: xarray\n",
            "    Found existing installation: xarray 2024.10.0\n",
            "    Uninstalling xarray-2024.10.0:\n",
            "      Successfully uninstalled xarray-2024.10.0\n",
            "\u001b[31mERROR: pip's dependency resolver does not currently take into account all the packages that are installed. This behaviour is the source of the following dependency conflicts.\n",
            "gcsfs 2024.10.0 requires fsspec==2024.10.0, but you have fsspec 2023.6.0 which is incompatible.\u001b[0m\u001b[31m\n",
            "\u001b[0mSuccessfully installed aiobotocore-2.5.4 aioitertools-0.12.0 anndata-0.11.0 array-api-compat-1.9.1 asciitree-0.3.3 astor-0.8.1 blessed-1.20.0 botocore-1.31.17 coloredlogs-15.0.1 crunch-cli-5.2.0 dask-expr-1.1.16 dask-image-2024.5.3 dataclasses-json-0.6.7 datashader-0.16.3 distributed-2024.10.0 editor-1.6.6 fasteners-0.19 fsspec-2023.6.0 gitignorefile-1.1.2 humanfriendly-10.0 inquirer-3.4.0 jmespath-1.0.1 legacy-api-wrap-1.4 marshmallow-3.23.1 matplotlib-scalebar-0.8.1 multiscale-spatial-image-1.0.1 mypy-extensions-1.0.0 numcodecs-0.13.1 ome-zarr-0.9.0 pims-0.7 pyct-0.5.0 pynndescent-0.5.13 python-dotenv-1.0.1 readchar-4.2.1 runs-1.2.2 s3fs-2023.6.0 scanpy-1.10.3 session-info-1.0.0 slicerator-1.1.0 sortedcontainers-2.4.0 spatial-image-1.1.0 spatialdata-0.2.5 spatialdata-plot-0.2.7 sseclient-py-1.8.0 stdlib_list-0.11.0 tblib-3.0.0 typing-inspect-0.9.0 umap-learn-0.5.7 urllib3-1.26.20 xarray-2024.7.0 xarray-dataclasses-1.8.0 xarray-datatree-0.0.15 xarray-schema-0.0.3 xarray-spatial-0.4.0 xmod-1.8.1 zarr-2.18.3 zict-3.0.0\n",
            "\n",
            "---\n",
            "Your token seems to have expired or is invalid.\n",
            "\n",
            "Please follow this link to copy and paste your new setup command:\n",
            "https://hub.crunchdao.com/competitions/mid-one/submit\n",
            "\n",
            "If you think that is an error, please contact an administrator.\n"
          ]
        }
      ]
    },
    {
      "cell_type": "code",
      "execution_count": null,
      "metadata": {
        "id": "6jdbq6ys7fAc"
      },
      "outputs": [],
      "source": [
        "# Get a new token here: https://hub.crunchdao.com/competitions/mid-one/submit/via/notebook\n",
        "\n",
        "%pip install --upgrade crunch-cli\n",
        "!crunch setup --notebook mid-one hello --token aaaabbbbccccddddeeeeffff"
      ]
    },
    {
      "cell_type": "markdown",
      "metadata": {
        "id": "xyeDbYSH7fAd"
      },
      "source": [
        "## Imports"
      ]
    },
    {
      "cell_type": "code",
      "execution_count": null,
      "metadata": {
        "id": "7qxqYHfMqvQ4"
      },
      "outputs": [],
      "source": [
        "import json\n",
        "import os\n",
        "import typing\n",
        "\n",
        "import numpy\n",
        "import pandas\n",
        "import scipy.optimize as opt\n",
        "from midone import HORIZON, Attacker\n",
        "from tqdm.auto import tqdm"
      ]
    },
    {
      "cell_type": "code",
      "execution_count": null,
      "metadata": {
        "id": "nIDx2mRt7fAe"
      },
      "outputs": [],
      "source": [
        "import crunch\n",
        "\n",
        "crunch = crunch.load_notebook()"
      ]
    },
    {
      "cell_type": "markdown",
      "metadata": {
        "id": "F7zKoqUAqx7X"
      },
      "source": [
        "## Step 1: Decide what state to maintain\n",
        "\n",
        "Let's first implement the `tick` method. This should quickly respond to an incoming data point by modifying a rapidly changing `state`. Here we choose to maintain the current value and also an exponentially weighted moving average of historical values. We use a simple dictionary, but other styles are presented [here](https://github.com/microprediction/midone/blob/main/tests/colabexamples/README.md) that you might prefer."
      ]
    },
    {
      "cell_type": "code",
      "execution_count": null,
      "metadata": {
        "id": "QpvP8BbRpixH"
      },
      "outputs": [],
      "source": [
        "class MyAttacker(Attacker):\n",
        "\n",
        "    def __init__(\n",
        "        self,\n",
        "        a=0.01\n",
        "    ):\n",
        "        super().__init__()\n",
        "\n",
        "        # state\n",
        "        self.running_avg: float = None\n",
        "        self.current_value: float = None\n",
        "\n",
        "        # params\n",
        "        self.a = a\n",
        "\n",
        "    def tick(self, x: float):\n",
        "        # Maintains an expon moving average of the data\n",
        "        self.current_value = x\n",
        "\n",
        "        if numpy.isnan(x):\n",
        "            return\n",
        "\n",
        "        if self.running_avg is None:\n",
        "            self.running_avg = x\n",
        "        else:\n",
        "            self.running_avg = (1 - self.a) * self.running_avg + self.a * x\n",
        "\n",
        "    def predict(self, horizon=HORIZON) -> float:\n",
        "        if self.current_value > self.running_avg + 2:\n",
        "            return -1  # sell\n",
        "\n",
        "        if self.current_value < self.running_avg - 2:\n",
        "            return 1  # buy\n",
        "\n",
        "        return 0  # hold"
      ]
    },
    {
      "cell_type": "markdown",
      "metadata": {
        "id": "MH7WqeJW7fAf"
      },
      "source": [
        "### Loading data"
      ]
    },
    {
      "cell_type": "code",
      "execution_count": null,
      "metadata": {
        "id": "hjkwWqtx7fAf"
      },
      "outputs": [],
      "source": [
        "x_train, x_test = crunch.load_streams()"
      ]
    },
    {
      "cell_type": "markdown",
      "metadata": {
        "id": "4INVybLMsraQ"
      },
      "source": [
        "### Testing tick\n",
        "We are half way there. Let's check the state maintenance:"
      ]
    },
    {
      "cell_type": "code",
      "execution_count": null,
      "metadata": {
        "id": "GWZ-Z_jsstdw"
      },
      "outputs": [],
      "source": [
        "attacker = MyAttacker()\n",
        "\n",
        "for message in x_train[0]:\n",
        "    attacker.tick(message[\"x\"])\n",
        "\n",
        "print(f\"After processing the entire stream, the current value is {attacker.current_value} and the moving average is {attacker.running_avg}\")"
      ]
    },
    {
      "cell_type": "markdown",
      "metadata": {
        "id": "Q0Bjtgbet2Hn"
      },
      "source": [
        "## Making an `up` or `down` decision\n",
        "\n",
        "Next we call the `predict` which use a mean reversion strategy. Let's check that if the current value is very high we should predict it will fall:"
      ]
    },
    {
      "cell_type": "code",
      "execution_count": null,
      "metadata": {
        "id": "buRgiUMo2lXH"
      },
      "outputs": [],
      "source": [
        "attacker = MyAttacker()\n",
        "\n",
        "attacker.current_value = 10\n",
        "attacker.running_avg = 5\n",
        "\n",
        "# Should sell (-1)\n",
        "attacker.predict()"
      ]
    },
    {
      "cell_type": "markdown",
      "metadata": {
        "id": "lh6jpef0vAjp"
      },
      "source": [
        "## Run the attacker on mock data\n",
        "Let's put these together to creat an attacker with both `tick` and `predict`"
      ]
    },
    {
      "cell_type": "code",
      "execution_count": null,
      "metadata": {
        "id": "S0yzoHAOv9W4"
      },
      "outputs": [],
      "source": [
        "# Always reset an attacker\n",
        "attacker = MyAttacker()\n",
        "\n",
        "data = [1, 3, 4, 2, 4, 5, 1, 5, 2, 5, 10] * 100\n",
        "for x in data:\n",
        "    y = attacker.tick_and_predict(x=x, horizon=HORIZON)"
      ]
    },
    {
      "cell_type": "markdown",
      "metadata": {
        "id": "dTsfKoLo3lIT"
      },
      "source": [
        "## Run the attacker on real data"
      ]
    },
    {
      "cell_type": "code",
      "execution_count": null,
      "metadata": {
        "id": "fqfStlKN3m5s"
      },
      "outputs": [],
      "source": [
        "states = []\n",
        "profits_and_losses = []\n",
        "\n",
        "for stream in tqdm(x_train):\n",
        "    attacker = MyAttacker()\n",
        "\n",
        "    for message in tqdm(stream, leave=False):\n",
        "        x = message['x']\n",
        "        y = attacker.tick_and_predict(x=x, horizon=HORIZON)\n",
        "\n",
        "    states.append({\n",
        "        \"current_value\": attacker.current_value,\n",
        "        \"running_avg\": attacker.running_avg,\n",
        "    })\n",
        "\n",
        "    profits_and_losses.append(attacker.pnl.summary())\n",
        "\n",
        "states = pandas.DataFrame(states)\n",
        "profits_and_losses = pandas.DataFrame(profits_and_losses)\n",
        "\n",
        "print(f\"After processing the all streams, here are the current values and moving averages:\")\n",
        "states"
      ]
    },
    {
      "cell_type": "markdown",
      "metadata": {
        "id": "kFnfH7VNxmpF"
      },
      "source": [
        "## Check the attackers' profits and losses"
      ]
    },
    {
      "cell_type": "code",
      "execution_count": null,
      "metadata": {
        "id": "EimzKx0lxo7y"
      },
      "outputs": [],
      "source": [
        "profits_and_losses"
      ]
    },
    {
      "cell_type": "markdown",
      "metadata": {
        "id": "MKagUGkW6vbv"
      },
      "source": [
        "## Train (globally) using many streams\n",
        "\n",
        "Let's create a function that evaluates the attacker for a choice of parameter `a` when it is run over the entire training set. For this you can use the stream generator generator. Just pull `x` out of each message."
      ]
    },
    {
      "cell_type": "code",
      "execution_count": null,
      "metadata": {
        "id": "UnVLstwy65L4"
      },
      "outputs": [],
      "source": [
        "# First define the objective as negative total profit and test it\n",
        "def negative_attacker_profit(\n",
        "    a,\n",
        "    streams: typing.List[typing.Iterable[dict]],\n",
        "    verbose=True\n",
        "):\n",
        "    \"\"\"\n",
        "    a: Parameter\n",
        "    streams: Supplies a collection of individual streams\n",
        "    \"\"\"\n",
        "\n",
        "    total_profit = 0\n",
        "\n",
        "    for stream in streams:\n",
        "        # Reset the attacker each stream\n",
        "        attacker = MyAttacker(a=a)\n",
        "\n",
        "        # Run it over the stream\n",
        "        for message in stream:\n",
        "            x = message['x']\n",
        "            attacker.tick_and_predict(x=x, horizon=HORIZON)\n",
        "\n",
        "        pnl = attacker.pnl.summary()\n",
        "        total_profit += pnl['total_profit']\n",
        "\n",
        "    if verbose:\n",
        "        print(f'Using a={a} the total profit is {total_profit}')\n",
        "\n",
        "    # So smaller is better for the optimizer\n",
        "    return -total_profit\n",
        "\n",
        "negative_attacker_profit(a=0.1, streams=x_train)"
      ]
    },
    {
      "cell_type": "markdown",
      "metadata": {
        "id": "1-I_cS9V7fAi"
      },
      "source": [
        "## CrunchDAO Code Interface\n",
        "\n",
        "[Submitting to the CrunchDAO platform requires 2 functions, `train` and `infer`.](https://docs.crunchdao.com/competitions/code-interface) Any line that is not in a function or is not an import will be commented when the notebook is processed.\n",
        "\n",
        "The content of the function is the same as the example, but the train must save the model to be read in infer."
      ]
    },
    {
      "cell_type": "markdown",
      "metadata": {
        "id": "5gu4daet75Fg"
      },
      "source": [
        "### The `train` function\n",
        "The canonical way to write a training procedure uses `streams` argument and iterates over all data points in all training streams."
      ]
    },
    {
      "cell_type": "code",
      "execution_count": null,
      "metadata": {
        "id": "cPMdvBBD76xG"
      },
      "outputs": [],
      "source": [
        "def get_parameter_file_path(model_directory_path: str):\n",
        "    return os.path.join(model_directory_path, 'params.json')\n",
        "\n",
        "\n",
        "def train(\n",
        "    streams: typing.List[typing.Iterable[dict]],\n",
        "    model_directory_path: str\n",
        "):\n",
        "    def training_optimization_objective(a):\n",
        "        return negative_attacker_profit(a=a, streams=streams)\n",
        "\n",
        "    result = opt.minimize_scalar(\n",
        "        training_optimization_objective,\n",
        "        bounds=(0.001, 0.2),\n",
        "        method='bounded',\n",
        "        options={\n",
        "            'maxiter': 5\n",
        "        }\n",
        "    )\n",
        "\n",
        "    best_a = result.x\n",
        "\n",
        "    print(f\"Optimal value of a: {result.x}\")\n",
        "    print(f\"Minimum total profit: {-result.fun}\")  # Re-negate to get the actual profit\n",
        "\n",
        "    # Let's save the best parameter\n",
        "    parameter_file_path = get_parameter_file_path(model_directory_path)\n",
        "    with open(parameter_file_path, 'w') as fd:\n",
        "        json.dump({'a': best_a}, fd)\n",
        "        print(f'Saved {parameter_file_path}')\n",
        "\n",
        "    # Check we can load it again!\n",
        "    with open(parameter_file_path, 'r') as fd:\n",
        "        params = json.load(fd)\n",
        "        print(params)\n",
        "\n",
        "\n",
        "# Here is how you would use it on the training data\n",
        "train(\n",
        "    streams=x_train,\n",
        "    model_directory_path=\"resources/\"\n",
        ")"
      ]
    },
    {
      "cell_type": "markdown",
      "metadata": {
        "id": "OCwBbf2XANK9"
      },
      "source": [
        "## The `infer` function\n",
        "\n",
        "Your notebook should have an infer function that can yield one prediction at a time."
      ]
    },
    {
      "cell_type": "code",
      "execution_count": null,
      "metadata": {
        "id": "WmdS8fkZfqnE"
      },
      "outputs": [],
      "source": [
        "def infer(\n",
        "    stream: typing.Iterator[dict],\n",
        "    model_directory_path: str\n",
        "):\n",
        "    # Load the best parameters\n",
        "    parameter_file_path = get_parameter_file_path(model_directory_path)\n",
        "    with open(parameter_file_path, 'r') as fd:\n",
        "        params = json.load(fd)\n",
        "        a = params['a']\n",
        "\n",
        "    # Instantiate your attacker\n",
        "    attacker = MyAttacker(a=a)\n",
        "\n",
        "    # Signals to the system that your attacker is initialized and ready.\n",
        "    yield  # Leave this here.\n",
        "\n",
        "    for message in stream:\n",
        "        decision = attacker.tick_and_predict(message['x'])\n",
        "\n",
        "        # Be sure to yield, even if the decision is zero.\n",
        "        yield decision\n",
        "\n",
        "\n",
        "# A quick test that indicates how your infer function will be used when you upload this notebook:\n",
        "messages = [{'x': 2.0}] * 10\n",
        "for y in infer(messages, model_directory_path=\"resources/\"):\n",
        "    # the first value is `None`, this is intended\n",
        "    print(y)"
      ]
    },
    {
      "cell_type": "code",
      "execution_count": null,
      "metadata": {
        "id": "_jGgucKq7fAj"
      },
      "outputs": [],
      "source": [
        "prediction = crunch.test()\n",
        "display(prediction)\n",
        "\n",
        "print(\"Download this notebook and submit it to the platform: https://hub.crunchdao.com/competitions/mid-one/submit/via/notebook\")"
      ]
    }
  ],
  "metadata": {
    "colab": {
      "provenance": []
    },
    "kernelspec": {
      "display_name": "Python 3",
      "name": "python3"
    },
    "language_info": {
      "codemirror_mode": {
        "name": "ipython",
        "version": 3
      },
      "file_extension": ".py",
      "mimetype": "text/x-python",
      "name": "python",
      "nbconvert_exporter": "python",
      "pygments_lexer": "ipython3",
      "version": "3.10.11"
    }
  },
  "nbformat": 4,
  "nbformat_minor": 0
}